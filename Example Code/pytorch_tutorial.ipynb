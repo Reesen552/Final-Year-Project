{
 "cells": [
  {
   "cell_type": "markdown",
   "source": [
    "# Pytorch tutorials"
   ],
   "metadata": {}
  },
  {
   "cell_type": "code",
   "execution_count": null,
   "source": [
    "import torch"
   ],
   "outputs": [],
   "metadata": {}
  }
 ],
 "metadata": {
  "orig_nbformat": 4,
  "language_info": {
   "name": "python",
   "version": "3.9.6"
  },
  "kernelspec": {
   "name": "python3",
   "display_name": "Python 3.9.6 64-bit ('final-year-project': conda)"
  },
  "interpreter": {
   "hash": "73dc134c273b03bbaaa405fda73e4afc8456ea2d5810584748846932e91528b3"
  }
 },
 "nbformat": 4,
 "nbformat_minor": 2
}