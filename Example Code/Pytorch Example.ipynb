{
 "cells": [
  {
   "cell_type": "code",
   "execution_count": 1,
   "source": [
    "# importing the libraries\r\n",
    "import pandas as pd\r\n",
    "import numpy as np\r\n",
    "\r\n",
    "# for reading and displaying images\r\n",
    "from skimage.io import imread\r\n",
    "import matplotlib.pyplot as plt\r\n",
    "%matplotlib inline\r\n",
    "\r\n",
    "# for creating validation set\r\n",
    "from sklearn.model_selection import train_test_split\r\n",
    "\r\n",
    "# for evaluating the model\r\n",
    "from sklearn.metrics import accuracy_score\r\n",
    "from tqdm import tqdm\r\n",
    "\r\n",
    "# PyTorch libraries and modules\r\n",
    "import torch\r\n",
    "from torch.autograd import Variable\r\n",
    "from torch.nn import Linear, ReLU, CrossEntropyLoss, Sequential, Conv2d, MaxPool2d, Module, Softmax, BatchNorm2d, Dropout\r\n",
    "from torch.optim import Adam, SGD"
   ],
   "outputs": [],
   "metadata": {}
  },
  {
   "cell_type": "code",
   "execution_count": 2,
   "source": [
    "# loading dataset\r\n",
    "train = pd.read_csv('data/Tutorial Data/train/train.csv')\r\n",
    "test = pd.read_csv('data/Tutorial Data/test/test.csv')\r\n",
    "\r\n",
    "sample_submission = pd.read_csv('data/Tutorial Data/sample_submission_I5njJSF.csv')\r\n",
    "\r\n",
    "train.head()"
   ],
   "outputs": [
    {
     "output_type": "execute_result",
     "data": {
      "text/html": [
       "<div>\n",
       "<style scoped>\n",
       "    .dataframe tbody tr th:only-of-type {\n",
       "        vertical-align: middle;\n",
       "    }\n",
       "\n",
       "    .dataframe tbody tr th {\n",
       "        vertical-align: top;\n",
       "    }\n",
       "\n",
       "    .dataframe thead th {\n",
       "        text-align: right;\n",
       "    }\n",
       "</style>\n",
       "<table border=\"1\" class=\"dataframe\">\n",
       "  <thead>\n",
       "    <tr style=\"text-align: right;\">\n",
       "      <th></th>\n",
       "      <th>id</th>\n",
       "      <th>label</th>\n",
       "    </tr>\n",
       "  </thead>\n",
       "  <tbody>\n",
       "    <tr>\n",
       "      <th>0</th>\n",
       "      <td>1</td>\n",
       "      <td>9</td>\n",
       "    </tr>\n",
       "    <tr>\n",
       "      <th>1</th>\n",
       "      <td>2</td>\n",
       "      <td>0</td>\n",
       "    </tr>\n",
       "    <tr>\n",
       "      <th>2</th>\n",
       "      <td>3</td>\n",
       "      <td>0</td>\n",
       "    </tr>\n",
       "    <tr>\n",
       "      <th>3</th>\n",
       "      <td>4</td>\n",
       "      <td>3</td>\n",
       "    </tr>\n",
       "    <tr>\n",
       "      <th>4</th>\n",
       "      <td>5</td>\n",
       "      <td>0</td>\n",
       "    </tr>\n",
       "  </tbody>\n",
       "</table>\n",
       "</div>"
      ],
      "text/plain": [
       "   id  label\n",
       "0   1      9\n",
       "1   2      0\n",
       "2   3      0\n",
       "3   4      3\n",
       "4   5      0"
      ]
     },
     "metadata": {},
     "execution_count": 2
    }
   ],
   "metadata": {}
  },
  {
   "cell_type": "code",
   "execution_count": 4,
   "source": [
    "# loading training images\r\n",
    "train_img = []\r\n",
    "for img_name in tqdm(train['id']):\r\n",
    "    # defining the image path\r\n",
    "    image_path = 'data/Tutorial Data/train/train/' + str(img_name) + '.png'\r\n",
    "    # reading the image\r\n",
    "    img = imread(image_path, as_gray=True)\r\n",
    "    # normalizing the pixel values\r\n",
    "    img /= 255.0\r\n",
    "    # converting the type of pixel to float 32\r\n",
    "    img = img.astype('float32')\r\n",
    "    # appending the image into the list\r\n",
    "    train_img.append(img)\r\n",
    "\r\n",
    "# converting the list to numpy array\r\n",
    "train_x = np.array(train_img)\r\n",
    "# defining the target\r\n",
    "train_y = train['label'].values\r\n",
    "train_x.shape"
   ],
   "outputs": [
    {
     "output_type": "stream",
     "name": "stderr",
     "text": [
      "100%|██████████| 60000/60000 [04:24<00:00, 227.00it/s]\n"
     ]
    },
    {
     "output_type": "execute_result",
     "data": {
      "text/plain": [
       "(60000, 28, 28)"
      ]
     },
     "metadata": {},
     "execution_count": 4
    }
   ],
   "metadata": {}
  },
  {
   "cell_type": "code",
   "execution_count": null,
   "source": [
    "# visualizing images\r\n",
    "i = 0\r\n",
    "plt.figure(figsize=(10,10))\r\n",
    "plt.subplot(221), plt.imshow(train_x[i], cmap='gray')\r\n",
    "plt.subplot(222), plt.imshow(train_x[i+25], cmap='gray')\r\n",
    "plt.subplot(223), plt.imshow(train_x[i+50], cmap='gray')\r\n",
    "plt.subplot(224), plt.imshow(train_x[i+75], cmap='gray')"
   ],
   "outputs": [
    {
     "output_type": "execute_result",
     "data": {
      "text/plain": [
       "(<AxesSubplot:>, <matplotlib.image.AxesImage at 0x1e3a543f220>)"
      ]
     },
     "metadata": {},
     "execution_count": 4
    },
    {
     "output_type": "display_data",
     "data": {
      "image/png": "[encoded data removed]",
      "text/plain": [
       "<Figure size 720x720 with 4 Axes>"
      ]
     },
     "metadata": {
      "needs_background": "light"
     }
    }
   ],
   "metadata": {}
  },
  {
   "cell_type": "code",
   "execution_count": null,
   "source": [
    "# create validation set\r\n",
    "train_x, val_x, train_y, val_y = train_test_split(train_x, train_y, test_size = 0.1)\r\n",
    "(train_x.shape, train_y.shape), (val_x.shape, val_y.shape)"
   ],
   "outputs": [
    {
     "output_type": "execute_result",
     "data": {
      "text/plain": [
       "(((54000, 28, 28), (54000,)), ((6000, 28, 28), (6000,)))"
      ]
     },
     "metadata": {},
     "execution_count": 5
    }
   ],
   "metadata": {}
  },
  {
   "cell_type": "code",
   "execution_count": null,
   "source": [
    "# converting training images into torch format\r\n",
    "train_x = train_x.reshape(54000, 1, 28, 28)\r\n",
    "train_x  = torch.from_numpy(train_x)\r\n",
    "\r\n",
    "# converting the target into torch format\r\n",
    "train_y = train_y.astype(int)\r\n",
    "train_y = torch.from_numpy(train_y)\r\n",
    "\r\n",
    "# shape of training data\r\n",
    "train_x.shape, train_y.shape"
   ],
   "outputs": [
    {
     "output_type": "execute_result",
     "data": {
      "text/plain": [
       "(torch.Size([54000, 1, 28, 28]), torch.Size([54000]))"
      ]
     },
     "metadata": {},
     "execution_count": 6
    }
   ],
   "metadata": {}
  },
  {
   "cell_type": "code",
   "execution_count": null,
   "source": [
    "# converting validation images into torch format\r\n",
    "val_x = val_x.reshape(6000, 1, 28, 28)\r\n",
    "val_x  = torch.from_numpy(val_x)\r\n",
    "\r\n",
    "# converting the target into torch format\r\n",
    "val_y = val_y.astype(int);\r\n",
    "val_y = torch.from_numpy(val_y)\r\n",
    "\r\n",
    "# shape of validation data\r\n",
    "val_x.shape, val_y.shape"
   ],
   "outputs": [
    {
     "output_type": "execute_result",
     "data": {
      "text/plain": [
       "(torch.Size([6000, 1, 28, 28]), torch.Size([6000]))"
      ]
     },
     "metadata": {},
     "execution_count": 11
    }
   ],
   "metadata": {}
  },
  {
   "cell_type": "code",
   "execution_count": null,
   "source": [
    "class Net(Module):   \r\n",
    "    def __init__(self):\r\n",
    "        super(Net, self).__init__()\r\n",
    "\r\n",
    "        self.cnn_layers = Sequential(\r\n",
    "            # Defining a 2D convolution layer\r\n",
    "            Conv2d(1, 4, kernel_size=3, stride=1, padding=1),\r\n",
    "            #output = 28*28*4\r\n",
    "            BatchNorm2d(4),\r\n",
    "            ReLU(inplace=True),\r\n",
    "            MaxPool2d(kernel_size=2, stride=2),\r\n",
    "            #output : 14*14*4\r\n",
    "            # Defining another 2D convolution layer\r\n",
    "            Conv2d(4, 4, kernel_size=3, stride=1, padding=1),\r\n",
    "            #output: 14*14*4\r\n",
    "            BatchNorm2d(4),\r\n",
    "            ReLU(inplace=True),\r\n",
    "            MaxPool2d(kernel_size=2, stride=2),\r\n",
    "            #output: 7*7*4\r\n",
    "        )\r\n",
    "\r\n",
    "        self.linear_layers = Sequential(\r\n",
    "            Linear(4 * 7 * 7, 10)\r\n",
    "        )\r\n",
    "\r\n",
    "    # Defining the forward pass    \r\n",
    "    def forward(self, x):\r\n",
    "        x = self.cnn_layers(x)\r\n",
    "        x = x.view(x.size(0), -1)\r\n",
    "        x = self.linear_layers(x)\r\n",
    "        return x"
   ],
   "outputs": [],
   "metadata": {}
  },
  {
   "cell_type": "code",
   "execution_count": null,
   "source": [
    "# defining the model\r\n",
    "model = Net()\r\n",
    "# defining the optimizer\r\n",
    "optimizer = Adam(model.parameters(), lr=0.07)\r\n",
    "# defining the loss function\r\n",
    "criterion = CrossEntropyLoss()\r\n",
    "# checking if GPU is available\r\n",
    "if torch.cuda.is_available():\r\n",
    "    model = model.cuda()\r\n",
    "    criterion = criterion.cuda()\r\n",
    "    \r\n",
    "print(model)"
   ],
   "outputs": [
    {
     "output_type": "stream",
     "name": "stdout",
     "text": [
      "Net(\n",
      "  (cnn_layers): Sequential(\n",
      "    (0): Conv2d(1, 4, kernel_size=(3, 3), stride=(1, 1), padding=(1, 1))\n",
      "    (1): BatchNorm2d(4, eps=1e-05, momentum=0.1, affine=True, track_running_stats=True)\n",
      "    (2): ReLU(inplace=True)\n",
      "    (3): MaxPool2d(kernel_size=2, stride=2, padding=0, dilation=1, ceil_mode=False)\n",
      "    (4): Conv2d(4, 4, kernel_size=(3, 3), stride=(1, 1), padding=(1, 1))\n",
      "    (5): BatchNorm2d(4, eps=1e-05, momentum=0.1, affine=True, track_running_stats=True)\n",
      "    (6): ReLU(inplace=True)\n",
      "    (7): MaxPool2d(kernel_size=2, stride=2, padding=0, dilation=1, ceil_mode=False)\n",
      "  )\n",
      "  (linear_layers): Sequential(\n",
      "    (0): Linear(in_features=196, out_features=10, bias=True)\n",
      "  )\n",
      ")\n"
     ]
    }
   ],
   "metadata": {}
  },
  {
   "cell_type": "code",
   "execution_count": null,
   "source": [
    "def train(epoch):\r\n",
    "    model.train()\r\n",
    "    tr_loss = 0\r\n",
    "    # getting the training set\r\n",
    "    x_train, y_train = Variable(train_x), Variable(train_y)\r\n",
    "    # getting the validation set\r\n",
    "    x_val, y_val = Variable(val_x), Variable(val_y)\r\n",
    "    # converting the data into GPU format\r\n",
    "    if torch.cuda.is_available():\r\n",
    "        x_train = x_train.cuda()\r\n",
    "        y_train = y_train.cuda()\r\n",
    "        x_val = x_val.cuda()\r\n",
    "        y_val = y_val.cuda()\r\n",
    "\r\n",
    "    # clearing the Gradients of the model parameters\r\n",
    "    optimizer.zero_grad()\r\n",
    "    \r\n",
    "    # prediction for training and validation set\r\n",
    "    output_train = model(x_train)\r\n",
    "    output_val = model(x_val)\r\n",
    "\r\n",
    "    # computing the training and validation loss\r\n",
    "    loss_train = criterion(output_train, y_train)\r\n",
    "    loss_val = criterion(output_val, y_val)\r\n",
    "    train_losses.append(loss_train)\r\n",
    "    val_losses.append(loss_val)\r\n",
    "\r\n",
    "    # computing the updated weights of all the model parameters\r\n",
    "    loss_train.backward()\r\n",
    "    optimizer.step()\r\n",
    "    tr_loss = loss_train.item()\r\n",
    "    if epoch%2 == 0:\r\n",
    "        # printing the validation loss\r\n",
    "        print('Epoch : ',epoch+1, '\\t', 'loss :', loss_val)"
   ],
   "outputs": [],
   "metadata": {}
  },
  {
   "cell_type": "code",
   "execution_count": 8,
   "source": [
    "# defining the number of epochs\r\n",
    "n_epochs = 25\r\n",
    "# empty list to store training losses\r\n",
    "train_losses = []\r\n",
    "# empty list to store validation losses\r\n",
    "val_losses = []\r\n",
    "# training the model\r\n",
    "for epoch in range(n_epochs):\r\n",
    "    train(epoch)"
   ],
   "outputs": [
    {
     "output_type": "error",
     "ename": "TypeError",
     "evalue": "'DataFrame' object is not callable",
     "traceback": [
      "\u001b[1;31m---------------------------------------------------------------------------\u001b[0m",
      "\u001b[1;31mTypeError\u001b[0m                                 Traceback (most recent call last)",
      "\u001b[1;32m~\\AppData\\Local\\Temp/ipykernel_2204/1295477515.py\u001b[0m in \u001b[0;36m<module>\u001b[1;34m\u001b[0m\n\u001b[0;32m      7\u001b[0m \u001b[1;31m# training the model\u001b[0m\u001b[1;33m\u001b[0m\u001b[1;33m\u001b[0m\u001b[1;33m\u001b[0m\u001b[0m\n\u001b[0;32m      8\u001b[0m \u001b[1;32mfor\u001b[0m \u001b[0mepoch\u001b[0m \u001b[1;32min\u001b[0m \u001b[0mrange\u001b[0m\u001b[1;33m(\u001b[0m\u001b[0mn_epochs\u001b[0m\u001b[1;33m)\u001b[0m\u001b[1;33m:\u001b[0m\u001b[1;33m\u001b[0m\u001b[1;33m\u001b[0m\u001b[0m\n\u001b[1;32m----> 9\u001b[1;33m     \u001b[0mtrain\u001b[0m\u001b[1;33m(\u001b[0m\u001b[0mepoch\u001b[0m\u001b[1;33m)\u001b[0m\u001b[1;33m\u001b[0m\u001b[1;33m\u001b[0m\u001b[0m\n\u001b[0m",
      "\u001b[1;31mTypeError\u001b[0m: 'DataFrame' object is not callable"
     ]
    }
   ],
   "metadata": {}
  }
 ],
 "metadata": {
  "orig_nbformat": 4,
  "language_info": {
   "name": "python",
   "version": "3.9.6",
   "mimetype": "text/x-python",
   "codemirror_mode": {
    "name": "ipython",
    "version": 3
   },
   "pygments_lexer": "ipython3",
   "nbconvert_exporter": "python",
   "file_extension": ".py"
  },
  "kernelspec": {
   "name": "python3",
   "display_name": "Python 3.9.6 64-bit ('final-year-project': conda)"
  },
  "interpreter": {
   "hash": "73dc134c273b03bbaaa405fda73e4afc8456ea2d5810584748846932e91528b3"
  }
 },
 "nbformat": 4,
 "nbformat_minor": 2
}