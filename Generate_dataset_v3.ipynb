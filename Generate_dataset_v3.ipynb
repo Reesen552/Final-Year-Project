{
 "cells": [
  {
   "cell_type": "code",
   "execution_count": null,
   "metadata": {},
   "outputs": [],
   "source": [
    "#imports\n",
    "import cv2\n",
    "from imutils import paths\n",
    "import numpy as np\n",
    "import math\n",
    "import pandas as pd\n",
    "import re"
   ]
  },
  {
   "cell_type": "code",
   "execution_count": null,
   "metadata": {},
   "outputs": [],
   "source": [
    "def vid2frame(input_path,output_path):\n",
    "    \"\"\"Takes in a video and splits into frames; Returns number of frames created\"\"\"\n",
    "    \n",
    "    capture = cv2.VideoCapture(input_path)\n",
    "    frameNr = 0\n",
    "    \n",
    "    totalFrames = capture.get(cv2.CAP_PROP_FRAME_COUNT)\n",
    "    width  = capture.get(cv2.CAP_PROP_FRAME_WIDTH)   # float `width`\n",
    "    height = capture.get(cv2.CAP_PROP_FRAME_HEIGHT)  # float `height`\n",
    "    \n",
    "    \n",
    "    \n",
    "    while capture.isOpened():\n",
    "        ret, frame = capture.read()\n",
    "        centreW = round(width/2)\n",
    "        centreH = round(height/2)\n",
    "        \n",
    "        #if frame is read correctly ret is True\n",
    "        if not ret:\n",
    "            #print(\"Can't receive frame (stream end?). Exiting ...\")\n",
    "            break\n",
    "        else:\n",
    "            rotate_frame = cv2.rotate(frame, cv2.ROTATE_90_CLOCKWISE)          # Rotate frame\n",
    "            crop_frame = rotate_frame[centreW-100:centreW+100,centreH-100:centreH+100]\n",
    "        \n",
    "            frame_name = 'frame_'+str(frameNr)+'.jpg'\n",
    "            save_path = output_path +'/'+frame_name\n",
    "            cv2.imwrite(save_path,crop_frame)\n",
    "            frameNr = frameNr + 1\n",
    "\n",
    "    return totalFrames\n",
    "        "
   ]
  },
  {
   "cell_type": "code",
   "execution_count": null,
   "metadata": {},
   "outputs": [],
   "source": [
    "def getFileLabels(path,dataNames = ['frame1.jpeg','frame2.jpeg']):\n",
    "    \n",
    "    video_name = path.split('/')[-1]\n",
    "    label = video_name.split('_')\n",
    "    \n",
    "    t = int(label[2].split('=')[-1])\n",
    "    m = int(label[3].split('=')[-1])\n",
    "    x = float(label[4].split('=')[-1])\n",
    "    q = label[5].split('=')[-1]\n",
    "    flow_type =  label[7].split('.')[0]\n",
    "\n",
    "    data = {'filename': dataNames,\n",
    "        't': t,\n",
    "        'm': m,\n",
    "        'x': x,\n",
    "        'q': q,\n",
    "        'flow':flow_type}\n",
    "\n",
    "    return pd.DataFrame(data)"
   ]
  },
  {
   "cell_type": "code",
   "execution_count": null,
   "metadata": {},
   "outputs": [],
   "source": [
    "# def frame2strip(input_path,strip_size,strip_x_location,output_frame_length,frame_name_start = 0):\n",
    "#     \"\"\"Crops a full image into a strip\"\"\"\n",
    "#     frameNr =0\n",
    "#     out_frameNr = frame_name_start\n",
    "\n",
    "#     frame_names = sorted_alphanumeric(os.listdir(input_path))\n",
    "#     frames_num = len(frame_names)  #number of frames in the video/directory\n",
    "    \n",
    "\n",
    "#     possible_full_frames = math.floor(frames_num/(output_frame_length/strip_size))\n",
    "#     print(f'Can create {possible_full_frames} frames from video {frames_num}')\n",
    "\n",
    "#     #List to store generated file names\n",
    "#     dataNames = []\n",
    "\n",
    "\n",
    "#     for name in frame_names:\n",
    "#         path = input_path +'/'+ name\n",
    "#         frame = cv2.imread(path)\n",
    "#         strip = frame[:, strip_x_location:strip_x_location +strip_size]\n",
    "\n",
    "#         if frameNr == 0 :\n",
    "#             output_frame = strip\n",
    "#             frameNr = frameNr +1\n",
    "#         else :\n",
    "#             output_frame = np.concatenate((output_frame,strip),axis=1)\n",
    "#             frameNr = frameNr +1\n",
    "\n",
    "#         if(frameNr == output_frame_length/strip_size):\n",
    "#             name = 'frame_'+str(out_frameNr)+'.jpg'\n",
    "#             cv2.imwrite(f'D:\\Flow Videos\\dataset5\\{name}', output_frame)\n",
    "#             dataNames.append(name) \n",
    "#             out_frameNr = out_frameNr + 1 # change back to 1\n",
    "#             frameNr = 0\n",
    "\n",
    "#             if(out_frameNr == possible_full_frames + frame_name_start ):\n",
    "#                 break\n",
    "\n",
    "    \n",
    "#     return out_frameNr,dataNames"
   ]
  },
  {
   "cell_type": "code",
   "execution_count": null,
   "metadata": {},
   "outputs": [],
   "source": [
    "def sorted_alphanumeric(data):\n",
    "    convert = lambda text: int(text) if text.isdigit() else text.lower()\n",
    "    alphanum_key = lambda key: [ convert(c) for c in re.split('([0-9]+)', key) ] \n",
    "    return sorted(data, key=alphanum_key)"
   ]
  },
  {
   "cell_type": "code",
   "execution_count": null,
   "metadata": {},
   "outputs": [],
   "source": [
    "#Location of raw data\n",
    "input_path = r'D:\\Flow Videos\\raw_data\\regime_videos\\\\'\n",
    "frame_output_path = r'D:\\Flow Videos\\full_frames\\regime_videos\\\\'\n",
    "\n",
    "regime_type_paths = os.listdir(input_path)\n",
    "regime_types = [ i.split('_')[-1] for i in regime_type_paths ] #regime types\n",
    "print(regime_types)\n",
    "\n",
    "video_paths = []\n",
    "frame_output_paths = []\n",
    "\n",
    "for i in regime_type_paths:\n",
    "    in_path = input_path + i\n",
    "    out_path = frame_output_path + i\n",
    "\n",
    "    video_names = os.listdir(in_path)\n",
    "    \n",
    "    video_paths.extend((in_path +'/'+ i) for i in video_names )\n",
    "    frame_output_paths.extend((out_path +'/'+ i) for i in video_names )\n",
    "\n",
    "#video_paths"
   ]
  },
  {
   "cell_type": "code",
   "execution_count": null,
   "metadata": {},
   "outputs": [],
   "source": [
    "# #Split all videos into frames\n",
    "\n",
    "# for i in range(len(video_paths)):\n",
    "#     vid_path = video_paths[i]\n",
    "#     out_path = frame_output_paths[i]\n",
    "\n",
    "#     os.makedirs(out_path, exist_ok=True)\n",
    "#     vid2frame(vid_path,out_path)\n",
    "#     print(f\"Video {i} done\")"
   ]
  },
  {
   "cell_type": "code",
   "execution_count": null,
   "metadata": {},
   "outputs": [],
   "source": [
    "#Parameters\n",
    "strip_size = 10    # Width of strip in pixels\n",
    "frames_req =  2500 - 1   # number of frames used (generates 1 extra hence -1)\n",
    "strip_x_location = 1     # Horizontal loaction of strip start in pixels\n",
    "output_frame_length = 1000  # Size of Output frame in pixels"
   ]
  },
  {
   "cell_type": "code",
   "execution_count": null,
   "metadata": {},
   "outputs": [],
   "source": [
    "input_path = frame_output_paths[1]\n",
    "print(input_path)"
   ]
  },
  {
   "cell_type": "code",
   "execution_count": null,
   "metadata": {},
   "outputs": [],
   "source": [
    "\n",
    "frameNr =0\n",
    "out_frameNr = 0\n",
    "\n",
    "frame_names = sorted_alphanumeric(os.listdir(input_path))\n",
    "frames_num = len(frame_names)  #number of frames in the video/directory\n",
    "frame_names"
   ]
  },
  {
   "cell_type": "code",
   "execution_count": null,
   "metadata": {},
   "outputs": [],
   "source": [
    "\n",
    "\n",
    "possible_full_frames = math.floor(frames_num/(output_frame_length/strip_size))\n",
    "print(f'Can create {possible_full_frames} frames from video {frames_num}')\n",
    "\n",
    "#List to store generated file names\n",
    "dataNames = []\n",
    "\n",
    "\n",
    "for name in frame_names:\n",
    "    path = input_path +'/'+ name\n",
    "    frame = cv2.imread(path)\n",
    "    strip = frame[:, strip_x_location:strip_x_location +strip_size]\n",
    "\n",
    "    if frameNr == 0 :\n",
    "        output_frame = strip\n",
    "        frameNr = frameNr +1\n",
    "    else :\n",
    "        output_frame = np.concatenate((strip,output_frame),axis=1)\n",
    "        frameNr = frameNr +1\n",
    "\n",
    "    if(frameNr == output_frame_length/strip_size):\n",
    "        name = 'frame_'+str(out_frameNr)+'.jpg'\n",
    "        cv2.imwrite(f'D:\\Flow Videos\\dataset5\\{name}', output_frame)\n",
    "        dataNames.append(name) \n",
    "        out_frameNr = out_frameNr + 1 # change back to 1\n",
    "        frameNr = 0\n",
    "\n",
    "\n",
    "\n",
    "    \n"
   ]
  },
  {
   "cell_type": "code",
   "execution_count": null,
   "metadata": {},
   "outputs": [],
   "source": [
    "frame_name_start = 0\n",
    "labels = []\n",
    "count =0\n",
    "for i in range(len(frame_output_paths)):\n",
    "    input_path = frame_output_paths[i]\n",
    "    print(count)\n",
    "    count =count +1\n",
    "    \n",
    "    frame_name_start,dataNames = frame2strip(input_path,strip_size,strip_x_location,output_frame_length,frame_name_start)\n",
    "\n",
    "    labels.append(getFileLabels(input_path,dataNames))\n",
    "\n",
    "labels =pd.concat(labels)\n",
    "#print(labels)    "
   ]
  },
  {
   "cell_type": "code",
   "execution_count": null,
   "metadata": {},
   "outputs": [],
   "source": [
    "labels.to_csv('D:\\Flow Videos/data_labels_4.csv',index=False)"
   ]
  },
  {
   "cell_type": "markdown",
   "metadata": {},
   "source": []
  }
 ],
 "metadata": {
  "interpreter": {
   "hash": "73dc134c273b03bbaaa405fda73e4afc8456ea2d5810584748846932e91528b3"
  },
  "kernelspec": {
   "display_name": "Python 3.9.6 64-bit ('final-year-project': conda)",
   "name": "python3"
  },
  "language_info": {
   "codemirror_mode": {
    "name": "ipython",
    "version": 3
   },
   "file_extension": ".py",
   "mimetype": "text/x-python",
   "name": "python",
   "nbconvert_exporter": "python",
   "pygments_lexer": "ipython3",
   "version": "3.9.6"
  },
  "orig_nbformat": 4
 },
 "nbformat": 4,
 "nbformat_minor": 2
}
