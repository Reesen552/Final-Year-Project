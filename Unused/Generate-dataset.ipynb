{
    "cells": [
        {
            "cell_type": "code",
            "execution_count": 8,
            "source": [
                "#imports\r\n",
                "import cv2\r\n",
                "from imutils import paths\r\n",
                "import numpy as np\r\n",
                "import math\r\n",
                "import pandas as pd"
            ],
            "outputs": [],
            "metadata": {}
        },
        {
            "cell_type": "code",
            "execution_count": 9,
            "source": [
                "def vid2frame(filepath,strip_size,strip_x_location,output_frame_length,frame_name_start = 0,frames_number = -1):\r\n",
                "    \r\n",
                "    capture = cv2.VideoCapture(filepath)\r\n",
                "    frameNr = 0\r\n",
                "    output_frameNr = frame_name_start\r\n",
                "    \r\n",
                "    output_frame_strips = math.ceil(output_frame_length/strip_size)         #Number of strips required to make one output frame\r\n",
                "\r\n",
                "    # Create OpenCV objects\r\n",
                "    bgsub = cv2.createBackgroundSubtractorMOG2()\r\n",
                "\r\n",
                "    #Create ROI mask\r\n",
                "    rectangle = np.zeros((512, 512), dtype=\"uint8\")\r\n",
                "    cv2.rectangle(rectangle, (150, 512), (350, 0), 255, -1)\r\n",
                "\r\n",
                "    #List to store generated file names\r\n",
                "    dataNames = []\r\n",
                "\r\n",
                "    while (True):\r\n",
                "\r\n",
                "        success, frame = capture.read()\r\n",
                "\r\n",
                "        if success and ( (frameNr <frames_number + output_frame_strips) or frames_number == -1  ):\r\n",
                "\r\n",
                "            #backsub_frame = bgsub.apply(frame)  # apply MOG2 background subtraction    \r\n",
                "            #skipped noise reduction\r\n",
                "            #th, bin_frame = cv2.threshold(backsub_frame, 128, 255, cv2.THRESH_BINARY)  #Binarise frame\r\n",
                "            #masked_frame = cv2.bitwise_and(rectangle, frame)           # Apply mask to frame\r\n",
                "            rotate_frame = cv2.rotate(frame, cv2.ROTATE_90_CLOCKWISE)          # Rotate frame\r\n",
                "            crop_frame = rotate_frame[150:350, :]\r\n",
                "\r\n",
                "            strip = crop_frame[:, strip_x_location:strip_x_location +strip_size]\r\n",
                "\r\n",
                "            if frameNr == 0 :\r\n",
                "                final_frame = strip\r\n",
                "            else :\r\n",
                "                final_frame = np.concatenate((final_frame,strip),axis=1)\r\n",
                "                \r\n",
                "            if(len(final_frame[0]) == output_frame_length):         # When desired output length is reached, start removing tyhe first strip\r\n",
                "                \r\n",
                "                #save_path = \r\n",
                "                name = 'frame_'+str(output_frameNr)+'.jpg'\r\n",
                "                cv2.imwrite(f'data/images/bubbly/{name}', final_frame)\r\n",
                "                dataNames.append(name) \r\n",
                "                output_frameNr = output_frameNr + 1 # change back to 1\r\n",
                "                final_frame = final_frame[:,strip_size:]\r\n",
                "                \r\n",
                "        else:\r\n",
                "            break\r\n",
                "\r\n",
                "        frameNr = frameNr+1\r\n",
                "    capture.release()\r\n",
                "\r\n",
                "    return output_frameNr , dataNames\r\n",
                "    "
            ],
            "outputs": [],
            "metadata": {}
        },
        {
            "cell_type": "code",
            "execution_count": 14,
            "source": [
                "def getFileLabels(path,dataNames):\r\n",
                "    \r\n",
                "    video_name = path.split('/')[-1]\r\n",
                "    label = video_name.split('_')\r\n",
                "    t = int(label[2].split('=')[-1])\r\n",
                "    m = int(label[3].split('=')[-1])\r\n",
                "    x = float(label[4].split('=')[-1])\r\n",
                "    q = label[5].split('=')[-1]\r\n",
                "\r\n",
                "    data = {'filename': dataNames,\r\n",
                "        't': t,\r\n",
                "        'm': m,\r\n",
                "        'x': x,\r\n",
                "        'q': q}\r\n",
                "\r\n",
                "    return pd.DataFrame(data)\r\n",
                "    "
            ],
            "outputs": [],
            "metadata": {}
        },
        {
            "cell_type": "code",
            "execution_count": 11,
            "source": [
                "def createCSV(datasets):\r\n",
                "    csv = datasets[0]\r\n",
                "\r\n",
                "    for i in range(1,len(datasets)):\r\n",
                "        csv  =  csv.append(datasets[i])\r\n",
                "\r\n",
                "    csv.to_csv('data/data_labels.csv',index=False)\r\n",
                "\r\n",
                "    "
            ],
            "outputs": [],
            "metadata": {}
        },
        {
            "cell_type": "code",
            "execution_count": 21,
            "source": [
                "path = r'D:\\Flow Videos\\regime_videos_2\\regime_videos\\\\'\r\n",
                "\r\n",
                "#Parameters\r\n",
                "strip_size = 1        # Width of strip in pixels\r\n",
                "frames_req =  2500 - 1   # number of frames used (generates 1 extra hence -1)\r\n",
                "strip_x_location = 1     # Horizontal loaction of strip start in pixels\r\n",
                "output_frame_length = 1000  # Size of Output frame in pixels\r\n",
                "\r\n",
                "\r\n",
                "regime_type_paths = os.listdir(path)\r\n",
                "regime_types = [ i.split('_')[-1] for i in regime_type_paths ]\r\n",
                "print(regime_types)\r\n",
                "path = path + regime_type_paths[0]\r\n",
                "video_names = os.listdir(path)\r\n",
                "video_paths = [ (path +'/'+ i) for i in video_names ]\r\n",
                "\r\n",
                "video_paths\r\n",
                "\r\n"
            ],
            "outputs": [
                {
                    "output_type": "stream",
                    "name": "stdout",
                    "text": [
                        "['bubbly', 'bubbly-slug', 'slug', 'slug-churn', 'churn', 'churn-annular', 'annular', 'mist']\n"
                    ]
                },
                {
                    "output_type": "execute_result",
                    "data": {
                        "text/plain": [
                            "['D:\\\\Flow Videos\\\\regime_videos_2\\\\regime_videos\\\\\\\\1_bubbly/20201211_15.00_T=-25_mf=15_x=-0.0037_q=AD_up_bubbly.mp4',\n",
                            " 'D:\\\\Flow Videos\\\\regime_videos_2\\\\regime_videos\\\\\\\\1_bubbly/20201211_15.26_T=-25_mf=15_x=0.0049_q=AD_up_bubbly.mp4',\n",
                            " 'D:\\\\Flow Videos\\\\regime_videos_2\\\\regime_videos\\\\\\\\1_bubbly/20201215_16.41_T=-25_mf=10_x=0.0112_q=AD_up_bubbly.mp4',\n",
                            " 'D:\\\\Flow Videos\\\\regime_videos_2\\\\regime_videos\\\\\\\\1_bubbly/20210120_17.03_T=+5_m=23_x=-0.0061_q=AD_up_bubbly.mp4',\n",
                            " 'D:\\\\Flow Videos\\\\regime_videos_2\\\\regime_videos\\\\\\\\1_bubbly/20210127_15.50_T=+5_m=5_x=-0.0166_q=AD_up_bubbly.mp4',\n",
                            " 'D:\\\\Flow Videos\\\\regime_videos_2\\\\regime_videos\\\\\\\\1_bubbly/20210128_15.58_T=+5_m=5_x=-0.0083_q=5000_up_bubbly.mp4',\n",
                            " 'D:\\\\Flow Videos\\\\regime_videos_2\\\\regime_videos\\\\\\\\1_bubbly/20210128_16.25_T=+5_m=5_x=-0.0073_q=5000_up_bubbly.mp4',\n",
                            " 'D:\\\\Flow Videos\\\\regime_videos_2\\\\regime_videos\\\\\\\\1_bubbly/20210128_16.56_T=+5_m=5_x=0.0048_q=5000_up_bubbly.mp4',\n",
                            " 'D:\\\\Flow Videos\\\\regime_videos_2\\\\regime_videos\\\\\\\\1_bubbly/20210217_17.54_T=+5_m=23_x=-0.0033_q=11100_up_bubbly.mp4',\n",
                            " 'D:\\\\Flow Videos\\\\regime_videos_2\\\\regime_videos\\\\\\\\1_bubbly/20210225_15.04_T=-5_m=20_x=-0.0074_q=11100_up_bubbly.mp4',\n",
                            " 'D:\\\\Flow Videos\\\\regime_videos_2\\\\regime_videos\\\\\\\\1_bubbly/20210302_17.25_T=-5_m=20_x=-0.0055_q=5000_up_bubbly.mp4',\n",
                            " 'D:\\\\Flow Videos\\\\regime_videos_2\\\\regime_videos\\\\\\\\1_bubbly/20210302_17.45_T=-5_m=20_x=0.0047_q=5000_up_bubbly.mp4',\n",
                            " 'D:\\\\Flow Videos\\\\regime_videos_2\\\\regime_videos\\\\\\\\1_bubbly/20210303_17.53_T=-7_m=10_x=0.0062_q=5000_up_bubbly.mp4']"
                        ]
                    },
                    "metadata": {},
                    "execution_count": 21
                }
            ],
            "metadata": {}
        },
        {
            "cell_type": "code",
            "execution_count": 15,
            "source": [
                "\r\n",
                "frames_gen = 0\r\n",
                "frames_left = frames_req\r\n",
                "\r\n",
                "datasets = []\r\n",
                "\r\n",
                "for i in video_paths:\r\n",
                "\r\n",
                "    if frames_gen < frames_req :\r\n",
                "        frames_gen,dataNames = vid2frame(i,strip_size,strip_x_location,output_frame_length,frames_gen,frames_left)\r\n",
                "        datasets.append(getFileLabels(i,dataNames))\r\n",
                "        print('gen',frames_gen)\r\n",
                "        frames_left = frames_req - frames_gen\r\n",
                "        print('req',frames_left)\r\n",
                "    else:\r\n",
                "        break\r\n",
                "\r\n",
                "createCSV(datasets)\r\n",
                "print('CSV Created')\r\n",
                "\r\n"
            ],
            "outputs": [
                {
                    "output_type": "stream",
                    "name": "stdout",
                    "text": [
                        "gen 1185\n",
                        "req 1314\n",
                        "gen 2370\n",
                        "req 129\n",
                        "gen 2500\n",
                        "req -1\n",
                        "CSV Created\n"
                    ]
                }
            ],
            "metadata": {}
        }
    ],
    "metadata": {
        "orig_nbformat": 4,
        "language_info": {
            "name": "python",
            "version": "3.9.6",
            "mimetype": "text/x-python",
            "codemirror_mode": {
                "name": "ipython",
                "version": 3
            },
            "pygments_lexer": "ipython3",
            "nbconvert_exporter": "python",
            "file_extension": ".py"
        },
        "kernelspec": {
            "name": "python3",
            "display_name": "Python 3.9.6 64-bit ('final-year-project': conda)"
        },
        "interpreter": {
            "hash": "73dc134c273b03bbaaa405fda73e4afc8456ea2d5810584748846932e91528b3"
        }
    },
    "nbformat": 4,
    "nbformat_minor": 2
}