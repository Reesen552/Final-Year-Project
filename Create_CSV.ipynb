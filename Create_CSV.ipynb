{
 "cells": [
  {
   "cell_type": "code",
   "execution_count": 1,
   "source": [
    "#Create CSV\r\n",
    "# Imports\r\n",
    "import pandas as pd"
   ],
   "outputs": [],
   "metadata": {}
  },
  {
   "cell_type": "code",
   "execution_count": 15,
   "source": [
    "\r\n",
    "labels = {}\r\n",
    "labels[\"frame1.png\"] = 20\r\n",
    "labels[\"frame2.png\"] = 30\r\n",
    "labels[\"frame3.png\"] = 24\r\n",
    "labels[\"frame3.png\"] = 25\r\n",
    "\r\n",
    "print(labels)\r\n",
    "\r\n",
    "\r\n",
    "df = pd.DataFrame(list(labels.items()), columns=['data', 'label'])\r\n",
    "\r\n",
    "print(df)"
   ],
   "outputs": [
    {
     "output_type": "stream",
     "name": "stdout",
     "text": [
      "{'frame1.png': 20, 'frame2.png': 30, 'frame3.png': 25}\n",
      "         data  label\n",
      "0  frame1.png     20\n",
      "1  frame2.png     30\n",
      "2  frame3.png     25\n"
     ]
    }
   ],
   "metadata": {}
  },
  {
   "cell_type": "code",
   "execution_count": 16,
   "source": [
    "df.to_csv('data/data_labels.csv',index=False)"
   ],
   "outputs": [],
   "metadata": {}
  }
 ],
 "metadata": {
  "orig_nbformat": 4,
  "language_info": {
   "name": "python",
   "version": "3.9.6",
   "mimetype": "text/x-python",
   "codemirror_mode": {
    "name": "ipython",
    "version": 3
   },
   "pygments_lexer": "ipython3",
   "nbconvert_exporter": "python",
   "file_extension": ".py"
  },
  "kernelspec": {
   "name": "python3",
   "display_name": "Python 3.9.6 64-bit ('final-year-project': conda)"
  },
  "interpreter": {
   "hash": "73dc134c273b03bbaaa405fda73e4afc8456ea2d5810584748846932e91528b3"
  }
 },
 "nbformat": 4,
 "nbformat_minor": 2
}