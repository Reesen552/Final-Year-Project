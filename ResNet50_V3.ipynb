{
 "cells": [
  {
   "cell_type": "markdown",
   "metadata": {},
   "source": [
    "### 1. Import dependencies"
   ]
  },
  {
   "cell_type": "code",
   "execution_count": 1,
   "metadata": {},
   "outputs": [],
   "source": [
    "import numpy as np\n",
    "%matplotlib inline\n",
    "import matplotlib.pyplot as plt\n",
    "from PIL import Image"
   ]
  },
  {
   "cell_type": "code",
   "execution_count": 2,
   "metadata": {},
   "outputs": [],
   "source": [
    "import torch\n",
    "from torchvision import datasets, models, transforms\n",
    "import torch.nn as nn\n",
    "from torch.nn import functional as F\n",
    "import torch.optim as optim"
   ]
  },
  {
   "cell_type": "code",
   "execution_count": 3,
   "metadata": {},
   "outputs": [],
   "source": [
    "import torchfunc\n",
    "import flowDatasetV3\n",
    "from torch.utils.data.sampler import SubsetRandomSampler\n",
    "\n",
    "import wandb\n"
   ]
  },
  {
   "cell_type": "code",
   "execution_count": 4,
   "metadata": {},
   "outputs": [],
   "source": [
    "torch.__version__\n",
    "torchfunc.cuda.reset()\n",
    "torch.cuda.empty_cache()"
   ]
  },
  {
   "cell_type": "code",
   "execution_count": 5,
   "metadata": {},
   "outputs": [
    {
     "name": "stderr",
     "output_type": "stream",
     "text": [
      "Failed to detect the name of this notebook, you can set it manually with the WANDB_NOTEBOOK_NAME environment variable to enable code saving.\n",
      "\u001b[34m\u001b[1mwandb\u001b[0m: Currently logged in as: \u001b[33mrees123\u001b[0m (use `wandb login --relogin` to force relogin)\n",
      "\u001b[34m\u001b[1mwandb\u001b[0m: wandb version 0.12.4 is available!  To upgrade, please run:\n",
      "\u001b[34m\u001b[1mwandb\u001b[0m:  $ pip install wandb --upgrade\n"
     ]
    },
    {
     "data": {
      "text/html": [
       "\n",
       "                Tracking run with wandb version 0.12.1<br/>\n",
       "                Syncing run <strong style=\"color:#cdcd00\">devout-fog-1</strong> to <a href=\"https://wandb.ai\" target=\"_blank\">Weights & Biases</a> <a href=\"https://docs.wandb.com/integrations/jupyter.html\" target=\"_blank\">(Documentation)</a>.<br/>\n",
       "                Project page: <a href=\"https://wandb.ai/rees123/Resnet50%20Regression\" target=\"_blank\">https://wandb.ai/rees123/Resnet50%20Regression</a><br/>\n",
       "                Run page: <a href=\"https://wandb.ai/rees123/Resnet50%20Regression/runs/2bwuljtc\" target=\"_blank\">https://wandb.ai/rees123/Resnet50%20Regression/runs/2bwuljtc</a><br/>\n",
       "                Run data is saved locally in <code>c:\\Users\\reese\\OneDrive\\Documents\\University\\EEE4022S\\Workspace\\Final-Year-Project\\wandb\\run-20211010_182355-2bwuljtc</code><br/><br/>\n",
       "            "
      ],
      "text/plain": [
       "<IPython.core.display.HTML object>"
      ]
     },
     "metadata": {},
     "output_type": "display_data"
    },
    {
     "data": {
      "text/html": [
       "<h1>Run(2bwuljtc)</h1><iframe src=\"https://wandb.ai/rees123/Resnet50%20Regression/runs/2bwuljtc\" style=\"border:none;width:100%;height:400px\"></iframe>"
      ],
      "text/plain": [
       "<wandb.sdk.wandb_run.Run at 0x165d7cd14c0>"
      ]
     },
     "execution_count": 5,
     "metadata": {},
     "output_type": "execute_result"
    }
   ],
   "source": [
    "wandb.init(project=\"Resnet50 Regression\")"
   ]
  },
  {
   "cell_type": "markdown",
   "metadata": {},
   "source": [
    "### 2. Create PyTorch data generators"
   ]
  },
  {
   "cell_type": "code",
   "execution_count": 6,
   "metadata": {},
   "outputs": [],
   "source": [
    "normalize = transforms.Normalize(mean=[0.485, 0.456, 0.406],\n",
    "                                 std=[0.229, 0.224, 0.225])\n",
    "\n",
    "data_transforms = {\n",
    "    'train':\n",
    "    transforms.Compose([\n",
    "        #transforms.Resize((500,500)),\n",
    "        transforms.RandomAffine(0, shear=10, scale=(0.8,1.2)),\n",
    "        transforms.RandomHorizontalFlip(),\n",
    "        transforms.ToTensor(),\n",
    "        normalize\n",
    "    ]),\n",
    "    'validation':\n",
    "    transforms.Compose([\n",
    "        #transforms.Resize((500,500)),\n",
    "        transforms.ToTensor(),\n",
    "        normalize\n",
    "    ]),\n",
    "}\n"
   ]
  },
  {
   "cell_type": "code",
   "execution_count": 7,
   "metadata": {},
   "outputs": [],
   "source": [
    "train_dataset = flowDatasetV3.flowDataset('x',False,0.2,data_transforms['train'])\n",
    "test_dataset = flowDatasetV3.flowDataset('x',True,0.2,data_transforms['validation'])"
   ]
  },
  {
   "cell_type": "code",
   "execution_count": 8,
   "metadata": {},
   "outputs": [],
   "source": [
    "batch_size = 50\n",
    "shuffle_dataset = True\n",
    "\n",
    "\n",
    "train_loader = torch.utils.data.DataLoader(train_dataset, batch_size=batch_size, shuffle =True)\n",
    "test_loader = torch.utils.data.DataLoader(test_dataset, batch_size=batch_size,  shuffle=True)"
   ]
  },
  {
   "cell_type": "code",
   "execution_count": 9,
   "metadata": {},
   "outputs": [],
   "source": [
    "dataloaders = {\n",
    "    'train': train_loader,\n",
    "    'validation': test_loader\n",
    "}"
   ]
  },
  {
   "cell_type": "markdown",
   "metadata": {},
   "source": [
    "### 3. Create the network"
   ]
  },
  {
   "cell_type": "code",
   "execution_count": 10,
   "metadata": {},
   "outputs": [],
   "source": [
    "#device = torch.device(\"cuda:0\" if torch.cuda.is_available() else \"cpu\")\n",
    "#device = torch.device(\"cpu\")\n",
    "device = torch.device(\"cuda:0\")"
   ]
  },
  {
   "cell_type": "code",
   "execution_count": 11,
   "metadata": {},
   "outputs": [],
   "source": [
    "model = models.resnet50(pretrained=True).to(device)\n",
    "    \n",
    "for param in model.parameters():\n",
    "    param.requires_grad = False   \n",
    "    \n",
    "model.fc = nn.Sequential(\n",
    "               nn.Linear(2048, 1024),\n",
    "               nn.ReLU(inplace=True),\n",
    "               nn.Linear(1024, 128),\n",
    "               nn.ReLU(inplace=True),\n",
    "               nn.Linear(128, 1)).to(device)"
   ]
  },
  {
   "cell_type": "code",
   "execution_count": 12,
   "metadata": {},
   "outputs": [],
   "source": [
    "criterion = torch.nn.MSELoss() \n",
    "optimizer = optim.SGD(model.fc.parameters(),lr=0.001)"
   ]
  },
  {
   "cell_type": "markdown",
   "metadata": {},
   "source": [
    "### 4. Train the model"
   ]
  },
  {
   "cell_type": "code",
   "execution_count": 13,
   "metadata": {},
   "outputs": [],
   "source": [
    "def train_model(model, criterion, optimizer, num_epochs=3):\n",
    "    for epoch in range(num_epochs):\n",
    "        print('Epoch {}/{}'.format(epoch+1, num_epochs))\n",
    "        print('-' * 10)\n",
    "\n",
    "        for phase in ['train', 'validation']:\n",
    "            if phase == 'train':\n",
    "                model.train()\n",
    "            else:\n",
    "                model.eval()\n",
    "\n",
    "            running_loss = 0.0\n",
    "            running_corrects = 0\n",
    "\n",
    "            for inputs, labels in dataloaders[phase]:\n",
    "                inputs = inputs.to(device)\n",
    "                labels = labels.to(device)\n",
    "\n",
    "                outputs = model(inputs)\n",
    "                loss = criterion(outputs.reshape(-1), labels.float())\n",
    "\n",
    "                if phase == 'train':\n",
    "                    optimizer.zero_grad()\n",
    "                    loss.backward()\n",
    "                    optimizer.step()\n",
    "\n",
    "                _, preds = torch.max(outputs, 1)\n",
    "                running_loss += loss.detach() * inputs.size(0)\n",
    "                running_corrects += torch.sum(preds == labels.data)\n",
    "\n",
    "            epoch_loss = running_loss / len(dataloaders[phase])\n",
    "            epoch_acc = running_corrects.float() / len(dataloaders[phase])\n",
    "\n",
    "            print('{} loss: {:.6f}, acc: {:.4f}'.format(phase, epoch_loss.item(), epoch_acc.item()))\n",
    "            wandb.log({'loss':  epoch_loss.item()})\n",
    "    return model"
   ]
  },
  {
   "cell_type": "code",
   "execution_count": 14,
   "metadata": {},
   "outputs": [
    {
     "name": "stdout",
     "output_type": "stream",
     "text": [
      "Epoch 1/50\n",
      "----------\n"
     ]
    },
    {
     "name": "stderr",
     "output_type": "stream",
     "text": [
      "C:\\Users\\reese\\miniconda3\\envs\\final-year-project\\lib\\site-packages\\torch\\nn\\functional.py:718: UserWarning: Named tensors and all their associated APIs are an experimental feature and subject to change. Please do not use them for anything important until they are released as stable. (Triggered internally at  ..\\c10/core/TensorImpl.h:1156.)\n",
      "  return torch.max_pool2d(input, kernel_size, stride, padding, dilation, ceil_mode)\n"
     ]
    },
    {
     "name": "stdout",
     "output_type": "stream",
     "text": [
      "train loss: 6.606668, acc: 0.0000\n",
      "validation loss: 4.326609, acc: 0.0000\n",
      "Epoch 2/50\n",
      "----------\n",
      "train loss: 3.485846, acc: 0.0000\n",
      "validation loss: 3.222917, acc: 0.0000\n",
      "Epoch 3/50\n",
      "----------\n",
      "train loss: 2.959131, acc: 0.0000\n",
      "validation loss: 2.758731, acc: 0.0000\n",
      "Epoch 4/50\n",
      "----------\n",
      "train loss: 2.791744, acc: 0.0000\n",
      "validation loss: 2.605319, acc: 0.0000\n",
      "Epoch 5/50\n",
      "----------\n",
      "train loss: 2.698141, acc: 0.0000\n",
      "validation loss: 2.502420, acc: 0.0000\n",
      "Epoch 6/50\n",
      "----------\n",
      "train loss: 2.580747, acc: 0.0000\n",
      "validation loss: 2.396997, acc: 0.0000\n",
      "Epoch 7/50\n",
      "----------\n",
      "train loss: 2.515475, acc: 0.0000\n",
      "validation loss: 2.337362, acc: 0.0000\n",
      "Epoch 8/50\n",
      "----------\n",
      "train loss: 2.431457, acc: 0.0000\n",
      "validation loss: 2.261825, acc: 0.0000\n",
      "Epoch 9/50\n",
      "----------\n",
      "train loss: 2.392794, acc: 0.0000\n",
      "validation loss: 2.201262, acc: 0.0000\n",
      "Epoch 10/50\n",
      "----------\n",
      "train loss: 2.301673, acc: 0.0000\n",
      "validation loss: 2.131926, acc: 0.0000\n",
      "Epoch 11/50\n",
      "----------\n",
      "train loss: 2.254337, acc: 0.0000\n",
      "validation loss: 2.057376, acc: 0.0000\n",
      "Epoch 12/50\n",
      "----------\n",
      "train loss: 2.159879, acc: 0.0000\n",
      "validation loss: 2.018857, acc: 0.0000\n",
      "Epoch 13/50\n",
      "----------\n",
      "train loss: 2.144733, acc: 0.0000\n",
      "validation loss: 1.952227, acc: 0.0000\n",
      "Epoch 14/50\n",
      "----------\n",
      "train loss: 2.086424, acc: 0.0000\n",
      "validation loss: 1.890317, acc: 0.0000\n",
      "Epoch 15/50\n",
      "----------\n",
      "train loss: 2.021577, acc: 0.0000\n",
      "validation loss: 1.844354, acc: 0.0000\n",
      "Epoch 16/50\n",
      "----------\n",
      "train loss: 1.976833, acc: 0.0000\n",
      "validation loss: 1.783789, acc: 0.0000\n",
      "Epoch 17/50\n",
      "----------\n",
      "train loss: 1.930428, acc: 0.0000\n",
      "validation loss: 1.736959, acc: 0.0000\n",
      "Epoch 18/50\n",
      "----------\n",
      "train loss: 1.887315, acc: 0.0000\n",
      "validation loss: 1.687323, acc: 0.0000\n",
      "Epoch 19/50\n",
      "----------\n",
      "train loss: 1.858114, acc: 0.0000\n",
      "validation loss: 1.663323, acc: 0.0000\n",
      "Epoch 20/50\n",
      "----------\n",
      "train loss: 1.798822, acc: 0.0000\n",
      "validation loss: 1.618048, acc: 0.0000\n",
      "Epoch 21/50\n",
      "----------\n",
      "train loss: 1.792563, acc: 0.0000\n",
      "validation loss: 1.549053, acc: 0.0000\n",
      "Epoch 22/50\n",
      "----------\n",
      "train loss: 1.694119, acc: 0.0000\n",
      "validation loss: 1.532463, acc: 0.0000\n",
      "Epoch 23/50\n",
      "----------\n",
      "train loss: 1.665354, acc: 0.0000\n",
      "validation loss: 1.496101, acc: 0.0000\n",
      "Epoch 24/50\n",
      "----------\n",
      "train loss: 1.642113, acc: 0.0000\n",
      "validation loss: 1.457988, acc: 0.0000\n",
      "Epoch 25/50\n",
      "----------\n",
      "train loss: 1.631689, acc: 0.0000\n",
      "validation loss: 1.428262, acc: 0.0000\n",
      "Epoch 26/50\n",
      "----------\n",
      "train loss: 1.594357, acc: 0.0000\n",
      "validation loss: 1.398021, acc: 0.0000\n",
      "Epoch 27/50\n",
      "----------\n",
      "train loss: 1.524076, acc: 0.0000\n",
      "validation loss: 1.345242, acc: 0.0000\n",
      "Epoch 28/50\n",
      "----------\n",
      "train loss: 1.513404, acc: 0.0000\n",
      "validation loss: 1.313067, acc: 0.0000\n",
      "Epoch 29/50\n",
      "----------\n",
      "train loss: 1.475932, acc: 0.0000\n",
      "validation loss: 1.295616, acc: 0.0000\n",
      "Epoch 30/50\n",
      "----------\n"
     ]
    }
   ],
   "source": [
    "model_trained = train_model(model, criterion, optimizer, num_epochs=50)"
   ]
  },
  {
   "cell_type": "markdown",
   "metadata": {},
   "source": [
    "### 5. Save and load the model"
   ]
  },
  {
   "cell_type": "code",
   "execution_count": null,
   "metadata": {},
   "outputs": [],
   "source": [
    "torch.save(model_trained.state_dict(), 'models/pytorch/weights.h5')"
   ]
  },
  {
   "cell_type": "code",
   "execution_count": null,
   "metadata": {},
   "outputs": [],
   "source": [
    "model = models.resnet50(pretrained=False).to(device)\n",
    "model.fc = nn.Sequential(\n",
    "               nn.Linear(2048, 1024),\n",
    "               nn.ReLU(inplace=True),\n",
    "               nn.Linear(1024, 128),\n",
    "               nn.ReLU(inplace=True),\n",
    "               nn.Linear(128, 1)).to(device)\n",
    "model.load_state_dict(torch.load('models/pytorch/weights.h5'))"
   ]
  },
  {
   "cell_type": "markdown",
   "metadata": {},
   "source": [
    "### 6. Make predictions on sample test images"
   ]
  },
  {
   "cell_type": "code",
   "execution_count": null,
   "metadata": {},
   "outputs": [],
   "source": [
    "validation_img_paths = [\"D:/Flow Videos/dataset/frame_288.jpg\",\n",
    "                        \"D:/Flow Videos/dataset/frame_536.jpg\",\n",
    "                        \"D:/Flow Videos/dataset/frame_1200.jpg\"]\n",
    "img_list = [Image.open(img_path) for img_path in validation_img_paths]"
   ]
  },
  {
   "cell_type": "code",
   "execution_count": null,
   "metadata": {},
   "outputs": [],
   "source": [
    "validation_batch = torch.stack([data_transforms['validation'](img).to(device)\n",
    "                                for img in img_list])"
   ]
  },
  {
   "cell_type": "code",
   "execution_count": null,
   "metadata": {},
   "outputs": [],
   "source": [
    "pred_logits_tensor = model(validation_batch)\n",
    "pred_probs = F.softmax(pred_logits_tensor, dim=1).cpu().data.numpy()"
   ]
  },
  {
   "cell_type": "code",
   "execution_count": null,
   "metadata": {},
   "outputs": [],
   "source": [
    "pred_logits_tensor\n",
    "#0.1861\n",
    "#0.0749\n",
    "#0.5926\n",
    "\n",
    "# [tensor([[0.4619],\n",
    "#        [0.2711],\n",
    "#        [0.6217]"
   ]
  },
  {
   "cell_type": "code",
   "execution_count": null,
   "metadata": {},
   "outputs": [],
   "source": [
    "# fig, axs = plt.subplots(1, len(img_list), figsize=(20, 5))\n",
    "# for i, img in enumerate(img_list):\n",
    "#     ax = axs[i]\n",
    "#     ax.axis('off')\n",
    "#     ax.set_title(\"{:.0f}% bu, {:.0f}% sl, {:.0f}% ch,{:.0f}% an\".format(\n",
    "#     100*pred_probs[i,0], 100*pred_probs[i,1],100*pred_probs[i,2],100*pred_probs[i,3]))\n",
    "#     ax.imshow(img)"
   ]
  }
 ],
 "metadata": {
  "interpreter": {
   "hash": "73dc134c273b03bbaaa405fda73e4afc8456ea2d5810584748846932e91528b3"
  },
  "kernelspec": {
   "display_name": "Python 3.9.6 64-bit ('final-year-project': conda)",
   "name": "python3"
  },
  "language_info": {
   "codemirror_mode": {
    "name": "ipython",
    "version": 3
   },
   "file_extension": ".py",
   "mimetype": "text/x-python",
   "name": "python",
   "nbconvert_exporter": "python",
   "pygments_lexer": "ipython3",
   "version": "3.9.6"
  },
  "toc": {
   "base_numbering": 1,
   "nav_menu": {},
   "number_sections": true,
   "sideBar": true,
   "skip_h1_title": false,
   "title_cell": "Table of Contents",
   "title_sidebar": "Contents",
   "toc_cell": false,
   "toc_position": {
    "height": "calc(100% - 180px)",
    "left": "10px",
    "top": "150px",
    "width": "171px"
   },
   "toc_section_display": true,
   "toc_window_display": false
  },
  "varInspector": {
   "cols": {
    "lenName": 16,
    "lenType": 16,
    "lenVar": 40
   },
   "kernels_config": {
    "python": {
     "delete_cmd_postfix": "",
     "delete_cmd_prefix": "del ",
     "library": "var_list.py",
     "varRefreshCmd": "print(var_dic_list())"
    },
    "r": {
     "delete_cmd_postfix": ") ",
     "delete_cmd_prefix": "rm(",
     "library": "var_list.r",
     "varRefreshCmd": "cat(var_dic_list()) "
    }
   },
   "oldHeight": 325,
   "position": {
    "height": "347px",
    "left": "536px",
    "right": "20px",
    "top": "545px",
    "width": "350px"
   },
   "types_to_exclude": [
    "module",
    "function",
    "builtin_function_or_method",
    "instance",
    "_Feature"
   ],
   "varInspector_section_display": "block",
   "window_display": false
  }
 },
 "nbformat": 4,
 "nbformat_minor": 2
}
