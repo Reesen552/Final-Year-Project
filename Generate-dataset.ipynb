{
    "cells": [
        {
            "cell_type": "code",
            "execution_count": 13,
            "source": [
                "#imports\r\n",
                "import cv2\r\n",
                "from imutils import paths\r\n",
                "import numpy as np\r\n",
                "import math\r\n",
                "import pandas as pd"
            ],
            "outputs": [],
            "metadata": {}
        },
        {
            "cell_type": "code",
            "execution_count": 18,
            "source": [
                "def vid2frame(filepath,strip_size,strip_x_location,output_frame_length,frame_name_start = 0,frames_number = -1):\r\n",
                "    \r\n",
                "    capture = cv2.VideoCapture(filepath)\r\n",
                "    frameNr = 0\r\n",
                "    output_frameNr = frame_name_start\r\n",
                "\r\n",
                "    output_frame_strips = math.ceil(output_frame_length/strip_size)         #Number of strips required to make one output frame\r\n",
                "\r\n",
                "    # Create OpenCV objects\r\n",
                "    bgsub = cv2.createBackgroundSubtractorMOG2()\r\n",
                "\r\n",
                "    #Create ROI mask\r\n",
                "    rectangle = np.zeros((512, 512), dtype=\"uint8\")\r\n",
                "    cv2.rectangle(rectangle, (150, 512), (350, 0), 255, -1)\r\n",
                "\r\n",
                "    # Dict for CSV\r\n",
                "    labels = {}\r\n",
                "\r\n",
                "    while (True):\r\n",
                "\r\n",
                "        success, frame = capture.read()\r\n",
                "\r\n",
                "\r\n",
                "\r\n",
                "        if success and ( (frameNr <frames_number + output_frame_strips) or frames_number == -1  ):\r\n",
                "\r\n",
                "            backsub_frame = bgsub.apply(frame)  # apply MOG2 background subtraction    \r\n",
                "            #skipped noise reduction\r\n",
                "            th, bin_frame = cv2.threshold(backsub_frame, 128, 255, cv2.THRESH_BINARY)  #Binarise frame\r\n",
                "            masked_frame = cv2.bitwise_and(rectangle, bin_frame)           # Apply mask to frame\r\n",
                "            rotate_frame = cv2.rotate(masked_frame, cv2.ROTATE_90_CLOCKWISE)          # Rotate frame\r\n",
                "            crop_frame = rotate_frame[150:350, :]\r\n",
                "\r\n",
                "            strip = crop_frame[:, strip_x_location:strip_x_location +strip_size]\r\n",
                "\r\n",
                "            if frameNr == 0 :\r\n",
                "                final_frame = strip\r\n",
                "            else :\r\n",
                "                final_frame = np.concatenate((final_frame,strip),axis=1)\r\n",
                "                \r\n",
                "            if(len(final_frame[0]) == output_frame_length):         # When desired output length is reached, start removing tyhe first strip\r\n",
                "                \r\n",
                "                name = 'frame_'+str(output_frameNr)+'.jpg'\r\n",
                "                cv2.imwrite(f'data/images/bubbly/{name}.jpg', final_frame)\r\n",
                "                labels[name] = output_frameNr # replace with data label\r\n",
                "                output_frameNr = output_frameNr + 1\r\n",
                "                final_frame = final_frame[:,strip_size:]\r\n",
                "                \r\n",
                "        else:\r\n",
                "            break\r\n",
                "\r\n",
                "        frameNr = frameNr+1\r\n",
                "    capture.release()\r\n",
                "    df = pd.DataFrame(list(labels.items()), columns=['data', 'label'])\r\n",
                "    df.to_csv('data/data_labels.csv',index=False)\r\n",
                "\r\n",
                "    return output_frameNr - 1\r\n"
            ],
            "outputs": [],
            "metadata": {}
        },
        {
            "cell_type": "code",
            "execution_count": 19,
            "source": [
                "path = 'data/regime_videos/'\r\n",
                "\r\n",
                "#Parameters\r\n",
                "strip_size = 1            # Width of strip in pixels\r\n",
                "frames_req = 100       # number of frames used\r\n",
                "strip_x_location = 250      # Horizontal loaction of strip start in pixels\r\n",
                "output_frame_length = 1000  # Size of Output frame in pixels\r\n",
                "\r\n",
                "\r\n",
                "\r\n",
                "regime_types = os.listdir(path)\r\n",
                "path = path + regime_types[0]\r\n",
                "video_names = os.listdir(path)\r\n",
                "video_paths = [ (path +'/'+ i) for i in video_names ]\r\n",
                "\r\n",
                "print(video_paths)\r\n",
                "\r\n",
                "\r\n",
                "frames_gen = 0\r\n",
                "frames_left = frames_req\r\n",
                "\r\n",
                "for i in video_paths:\r\n",
                "\r\n",
                "    if frames_gen < frames_req :\r\n",
                "        frames_gen = vid2frame(i,strip_size,strip_x_location,output_frame_length,frames_gen,frames_left)\r\n",
                "        print('gen',frames_gen)\r\n",
                "        frames_left = frames_req - frames_gen\r\n",
                "        print('req',frames_left)\r\n",
                "    else:\r\n",
                "        break\r\n",
                "    "
            ],
            "outputs": [
                {
                    "output_type": "stream",
                    "name": "stdout",
                    "text": [
                        "['data/regime_videos/bubbly/20210127_15.50_T=+5_m=5_x=0_q=AD_up_bubbly_512x512.mp4', 'data/regime_videos/bubbly/20210128_16.56_T=+5_m=5_x=0.02_q=5000_up_bubbly_512x512.mp4', 'data/regime_videos/bubbly/20210302_17.45_T=-5_m=20_x=0_q=5000_up_bubbly_512x512.mp4']\n",
                        "gen 100\n",
                        "req 0\n"
                    ]
                }
            ],
            "metadata": {}
        },
        {
            "cell_type": "code",
            "execution_count": 34,
            "source": [
                "video_paths[0]\r\n",
                "capture = cv2.VideoCapture(video_paths[0])\r\n",
                "folder_name, video_name = video_paths[0].split('/')[-2], video_paths[0].split('/')[-1]\r\n",
                "label = video_name.split('_')\r\n",
                "print(folder_name)\r\n",
                "print(video_name)\r\n",
                "print(label)"
            ],
            "outputs": [
                {
                    "output_type": "stream",
                    "name": "stdout",
                    "text": [
                        "bubbly\n",
                        "20210127_15.50_T=+5_m=5_x=0_q=AD_up_bubbly_512x512.mp4\n",
                        "['20210127', '15.50', 'T=+5', 'm=5', 'x=0', 'q=AD', 'up', 'bubbly', '512x512.mp4']\n"
                    ]
                }
            ],
            "metadata": {}
        }
    ],
    "metadata": {
        "orig_nbformat": 4,
        "language_info": {
            "name": "python",
            "version": "3.9.6",
            "mimetype": "text/x-python",
            "codemirror_mode": {
                "name": "ipython",
                "version": 3
            },
            "pygments_lexer": "ipython3",
            "nbconvert_exporter": "python",
            "file_extension": ".py"
        },
        "kernelspec": {
            "name": "python3",
            "display_name": "Python 3.9.6 64-bit ('final-year-project': conda)"
        },
        "interpreter": {
            "hash": "73dc134c273b03bbaaa405fda73e4afc8456ea2d5810584748846932e91528b3"
        }
    },
    "nbformat": 4,
    "nbformat_minor": 2
}