{
    "cells": [
        {
            "cell_type": "code",
            "execution_count": 3,
            "source": [
                "#imports\r\n",
                "import cv2\r\n",
                "from imutils import paths\r\n",
                "import numpy as np\r\n",
                "import math"
            ],
            "outputs": [],
            "metadata": {}
        },
        {
            "cell_type": "code",
            "execution_count": 10,
            "source": [
                "def generateDataset(filepath,strip_size,frames_number,strip_x_location,output_frame_length):\r\n",
                "    \r\n",
                "    frame_name_start = 0\r\n",
                "    capture = cv2.VideoCapture(filepath)\r\n",
                "    frameNr = 0\r\n",
                "\r\n",
                "    output_frame_strips = math.ceil(output_frame_length/strip_size)         #Number of strips required to make one output frame\r\n",
                "\r\n",
                "    print(\"Each output frame is a composite of \",output_frame_strips,\"frames\")\r\n",
                "    print(\"Inital delay of \",output_frame_strips,\"frames to form a full output image\")\r\n",
                "\r\n",
                "\r\n",
                "\r\n",
                "    # Create OpenCV objects\r\n",
                "    bgsub = cv2.createBackgroundSubtractorMOG2()\r\n",
                "\r\n",
                "    #Create ROI mask\r\n",
                "    rectangle = np.zeros((512, 512), dtype=\"uint8\")\r\n",
                "    cv2.rectangle(rectangle, (150, 512), (350, 0), 255, -1)\r\n",
                "\r\n",
                "\r\n",
                "    while (True):\r\n",
                "\r\n",
                "        success, frame = capture.read()\r\n",
                "\r\n",
                "        if success and (frameNr <frames_number + output_frame_strips ):\r\n",
                "\r\n",
                "            backsub_frame = bgsub.apply(frame)  # apply MOG2 background subtraction    \r\n",
                "            #skipped noise reduction\r\n",
                "            th, bin_frame = cv2.threshold(backsub_frame, 128, 255, cv2.THRESH_BINARY)  #Binarise frame\r\n",
                "            masked_frame = cv2.bitwise_and(rectangle, bin_frame)           # Apply mask to frame\r\n",
                "            rotate_frame = cv2.rotate(masked_frame, cv2.ROTATE_90_CLOCKWISE)          # Rotate frame\r\n",
                "\r\n",
                "            strip = rotate_frame[:, strip_x_location:strip_x_location +strip_size]\r\n",
                "\r\n",
                "            if frameNr == 0 :\r\n",
                "                final_frame = strip\r\n",
                "            else :\r\n",
                "                final_frame = np.concatenate((final_frame,strip),axis=1)\r\n",
                "                \r\n",
                "            if(len(final_frame[0]) == output_frame_length):         # When desired output length is reached, start removing tyhe first strip\r\n",
                "                output_frameNr = frameNr - output_frame_strips + 1\r\n",
                "                cv2.imwrite(f'data/images/bubbly/frame_{output_frameNr}.jpg', final_frame)\r\n",
                "                final_frame = final_frame[:,strip_size:]\r\n",
                "                \r\n",
                "        else:\r\n",
                "            break\r\n",
                "\r\n",
                "        frameNr = frameNr+1\r\n",
                "    capture.release()\r\n"
            ],
            "outputs": [],
            "metadata": {}
        },
        {
            "cell_type": "code",
            "execution_count": 40,
            "source": [
                "path = 'data/regime_videos/'\r\n",
                "regime_types = os.listdir(path)\r\n",
                "\r\n",
                "print(regime_types)\r\n",
                "\r\n",
                "path = path + regime_types[0]\r\n",
                "video_names = os.listdir(path)\r\n",
                "video_paths = [ (path +'/'+ i) for i in video_names ]\r\n",
                "\r\n",
                "\r\n",
                "path = video_paths[1]\r\n",
                "generateDataset(path,2,100,250,500)"
            ],
            "outputs": [
                {
                    "output_type": "stream",
                    "name": "stdout",
                    "text": [
                        "['bubbly']\n",
                        "Each output frame is a composite of  250 frames\n",
                        "Inital delay of  250 frames to form a full output image\n"
                    ]
                }
            ],
            "metadata": {}
        },
        {
            "cell_type": "markdown",
            "source": [
                "# Split Video into preprocessed frames"
            ],
            "metadata": {}
        },
        {
            "cell_type": "code",
            "execution_count": null,
            "source": [
                "capture = cv2.VideoCapture('data/regime_videos/bubbly/20210127_15.50_T=+5_m=5_x=0_q=AD_up_bubbly_512x512_mp4_C001H001S0001.mp4')\r\n",
                "frameNr = 0\r\n",
                "\r\n",
                "#Parameters\r\n",
                "strip_size = 10            # Width of strip in pixels\r\n",
                "frames_number =  100        # number of frames used\r\n",
                "#alternate_frames = 1        # value of 1 uses all frames , 2 skips 1 frame \r\n",
                "strip_x_location = 250      # Horizontal loaction of strip start in pixels\r\n",
                "output_frame_length = 500  # Size of Output frame in pixels\r\n",
                "\r\n",
                "\r\n",
                "output_frame_strips = math.ceil(output_frame_length/strip_size)         #Number of strips required to make one output frame\r\n",
                "\r\n",
                "print(\"Each output frame is a composite of \",output_frame_strips,\"frames\")\r\n",
                "print(\"Inital delay of \",output_frame_strips,\"frames to form a full output image\")\r\n",
                "\r\n",
                "\r\n",
                "\r\n",
                "# Create OpenCV objects\r\n",
                "bgsub = cv2.createBackgroundSubtractorMOG2()\r\n",
                "\r\n",
                "#Create ROI mask\r\n",
                "rectangle = np.zeros((512, 512), dtype=\"uint8\")\r\n",
                "cv2.rectangle(rectangle, (150, 512), (350, 0), 255, -1)\r\n",
                "\r\n",
                " \r\n",
                "while (True):\r\n",
                " \r\n",
                "    success, frame = capture.read()\r\n",
                "    \r\n",
                "    if success and (frameNr <frames_number + output_frame_strips ):\r\n",
                "\r\n",
                "        backsub_frame = bgsub.apply(frame)  # apply MOG2 background subtraction    \r\n",
                "        #skipped noise reduction\r\n",
                "        th, bin_frame = cv2.threshold(backsub_frame, 128, 255, cv2.THRESH_BINARY)  #Binarise frame\r\n",
                "        masked_frame = cv2.bitwise_and(rectangle, bin_frame)           # Apply mask to frame\r\n",
                "        rotate_frame = cv2.rotate(masked_frame, cv2.ROTATE_90_CLOCKWISE)          # Rotate frame\r\n",
                "\r\n",
                "        strip = rotate_frame[:, strip_x_location:strip_x_location +strip_size]\r\n",
                "\r\n",
                "        if frameNr == 0 :\r\n",
                "            final_frame = strip\r\n",
                "        else :\r\n",
                "            final_frame = np.concatenate((final_frame,strip),axis=1)\r\n",
                "\r\n",
                "        if(len(final_frame[0]) == output_frame_length):         # When desired output length is reached, start removing tyhe first strip\r\n",
                "            output_frameNr = frameNr - output_frame_strips + 1\r\n",
                "            cv2.imwrite(f'data/images/bubbly/frame_{output_frameNr}.jpg', final_frame)\r\n",
                "            final_frame = final_frame[:,strip_size:]\r\n",
                "            \r\n",
                "    else:\r\n",
                "        break\r\n",
                " \r\n",
                "    frameNr = frameNr+1\r\n",
                "capture.release()\r\n",
                "\r\n"
            ],
            "outputs": [],
            "metadata": {}
        },
        {
            "cell_type": "code",
            "execution_count": null,
            "source": [],
            "outputs": [],
            "metadata": {}
        }
    ],
    "metadata": {
        "orig_nbformat": 4,
        "language_info": {
            "name": "python",
            "version": "3.9.6",
            "mimetype": "text/x-python",
            "codemirror_mode": {
                "name": "ipython",
                "version": 3
            },
            "pygments_lexer": "ipython3",
            "nbconvert_exporter": "python",
            "file_extension": ".py"
        },
        "kernelspec": {
            "name": "python3",
            "display_name": "Python 3.9.6 64-bit ('final-year-project': conda)"
        },
        "interpreter": {
            "hash": "73dc134c273b03bbaaa405fda73e4afc8456ea2d5810584748846932e91528b3"
        }
    },
    "nbformat": 4,
    "nbformat_minor": 2
}