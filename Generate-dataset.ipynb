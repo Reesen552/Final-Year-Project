{
    "cells": [
        {
            "cell_type": "code",
            "execution_count": 9,
            "source": [
                "#imports\r\n",
                "import cv2\r\n",
                "from imutils import paths\r\n",
                "import numpy as np\r\n",
                "import math"
            ],
            "outputs": [],
            "metadata": {}
        },
        {
            "cell_type": "markdown",
            "source": [
                "# Split Video into preprocessed frames"
            ],
            "metadata": {}
        },
        {
            "cell_type": "code",
            "execution_count": 10,
            "source": [
                "capture = cv2.VideoCapture('data/regime_videos/bubbly/20210127_15.50_T=+5_m=5_x=0_q=AD_up_bubbly_512x512_mp4_C001H001S0001.mp4')\r\n",
                "frameNr = 0\r\n",
                "\r\n",
                "#Parameters\r\n",
                "strip_size = 5             # Width of strip in pixels\r\n",
                "frames_number = 300         # number of frames used\r\n",
                "alternate_frames = 1        # value of 1 uses all frames , 2 skips 1 frame\r\n",
                "strip_x_location = 250      # Horizontal loaction of strip start in pixels\r\n",
                "output_frame_length = 1000  # Size of Output frame in pixels\r\n",
                "\r\n",
                "start_delay = math.ceil(strip_x_location/strip_size)                    #time taken to form a full output frame\r\n",
                "output_frame_strips = math.ceil(output_frame_length/strip_size)         #Number of strips required to make one output frame\r\n",
                "\r\n",
                "print(\"Each output frame is a composite of \",output_frame_strips,\"frames\")\r\n",
                "print(\"Inital delay of \",start_delay,\"frames to form a full output image\")\r\n",
                "\r\n",
                "\r\n",
                "\r\n",
                "# Create OpenCV objects\r\n",
                "bgsub = cv2.createBackgroundSubtractorMOG2()\r\n",
                "\r\n",
                "#Create ROI mask\r\n",
                "rectangle = np.zeros((512, 512), dtype=\"uint8\")\r\n",
                "cv2.rectangle(rectangle, (150, 512), (350, 0), 255, -1)\r\n",
                "\r\n",
                " \r\n",
                "while (True):\r\n",
                " \r\n",
                "    success, frame = capture.read()\r\n",
                "    \r\n",
                "    if success:\r\n",
                "\r\n",
                "        backsub_frame = bgsub.apply(frame)  # apply MOG2 background subtraction    \r\n",
                "        #skipped noise reduction\r\n",
                "        th, bin_frame = cv2.threshold(backsub_frame, 128, 255, cv2.THRESH_BINARY)  #Binarise frame\r\n",
                "        masked_frame = cv2.bitwise_and(rectangle, bin_frame)           # Apply mask to frame\r\n",
                "        final_frame = cv2.rotate(masked_frame, cv2.ROTATE_90_CLOCKWISE)          # Rotate frame\r\n",
                "\r\n",
                "        \r\n",
                "\r\n",
                "        cv2.imwrite(f'data/images/bubbly/frame_{frameNr}.jpg', final_frame)\r\n",
                " \r\n",
                "    else:\r\n",
                "        break\r\n",
                " \r\n",
                "    frameNr = frameNr+1\r\n",
                " \r\n",
                "capture.release()\r\n",
                "\r\n"
            ],
            "outputs": [
                {
                    "output_type": "stream",
                    "name": "stdout",
                    "text": [
                        "Each output frame is a composite of  200 frames\n",
                        "Inital delay of  50 frames to form a full output image\n"
                    ]
                }
            ],
            "metadata": {}
        },
        {
            "cell_type": "code",
            "execution_count": null,
            "source": [],
            "outputs": [],
            "metadata": {}
        }
    ],
    "metadata": {
        "orig_nbformat": 4,
        "language_info": {
            "name": "python",
            "version": "3.9.6",
            "mimetype": "text/x-python",
            "codemirror_mode": {
                "name": "ipython",
                "version": 3
            },
            "pygments_lexer": "ipython3",
            "nbconvert_exporter": "python",
            "file_extension": ".py"
        },
        "kernelspec": {
            "name": "python3",
            "display_name": "Python 3.9.6 64-bit ('final-year-project': conda)"
        },
        "interpreter": {
            "hash": "73dc134c273b03bbaaa405fda73e4afc8456ea2d5810584748846932e91528b3"
        }
    },
    "nbformat": 4,
    "nbformat_minor": 2
}